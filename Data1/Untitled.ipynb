{
 "cells": [
  {
   "cell_type": "markdown",
   "id": "b6463112",
   "metadata": {},
   "source": [
    "# 0115\n",
    "## 데이터분석"
   ]
  },
  {
   "cell_type": "markdown",
   "id": "140ec6e1",
   "metadata": {},
   "source": [
    "**굵고** *기울임* "
   ]
  },
  {
   "cell_type": "markdown",
   "id": "a4ace9c3",
   "metadata": {},
   "source": [
    "| 학번   |이름   |학과     |\n",
    "|:------ |------:|--------:|\n",
    "|**2023001**|김동양|인공지능소프트웨어학과|\n",
    "|*2023002*|이미래|컴퓨터소프트웨어공학과|\n",
    "|2023003|박대학|컴퓨터정보학과|"
   ]
  },
  {
   "cell_type": "markdown",
   "id": "987c3adc",
   "metadata": {},
   "source": [
    "*인터넷 링크걸기*\n",
    "\n",
    "[naver](https://www.naver.com/)"
   ]
  },
  {
   "cell_type": "code",
   "execution_count": 8,
   "id": "662e41a7",
   "metadata": {},
   "outputs": [
    {
     "name": "stdout",
     "output_type": "stream",
     "text": [
      "[3, 2, 1]\n"
     ]
    },
    {
     "data": {
      "text/plain": [
       "3"
      ]
     },
     "execution_count": 8,
     "metadata": {},
     "output_type": "execute_result"
    }
   ],
   "source": [
    "#최대 값 \n",
    "x=[3,2,1]\n",
    "\n",
    "print(x)\n",
    "max(x)"
   ]
  },
  {
   "cell_type": "code",
   "execution_count": 15,
   "id": "ce792da0",
   "metadata": {},
   "outputs": [
    {
     "name": "stdout",
     "output_type": "stream",
     "text": [
      "x: 1665986596800\n",
      "y: 1665986596800\n",
      "z: 1665986460352\n"
     ]
    }
   ],
   "source": [
    "#리스트의 주소 값\n",
    "x=[3,2,1]\n",
    "y=x\n",
    "#x가 가리키는 곳을 y도 가리키게 해라(같은 메모리를 보게 해라)\n",
    "#id=> 메모리 주소 알려주는 빌트인 펑션\n",
    "\n",
    "z=x.copy()\n",
    "print('x: ' + str(id(x)))\n",
    "print('y: ' + str(id(y)))\n",
    "print('z: ' + str(id(z)))"
   ]
  },
  {
   "cell_type": "code",
   "execution_count": null,
   "id": "16150625",
   "metadata": {},
   "outputs": [],
   "source": []
  }
 ],
 "metadata": {
  "kernelspec": {
   "display_name": "Python 3 (ipykernel)",
   "language": "python",
   "name": "python3"
  },
  "language_info": {
   "codemirror_mode": {
    "name": "ipython",
    "version": 3
   },
   "file_extension": ".py",
   "mimetype": "text/x-python",
   "name": "python",
   "nbconvert_exporter": "python",
   "pygments_lexer": "ipython3",
   "version": "3.11.5"
  }
 },
 "nbformat": 4,
 "nbformat_minor": 5
}
